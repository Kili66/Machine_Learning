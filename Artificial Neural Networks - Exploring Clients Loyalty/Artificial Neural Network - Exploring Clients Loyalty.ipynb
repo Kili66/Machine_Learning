{
 "cells": [
  {
   "cell_type": "markdown",
   "metadata": {},
   "source": [
    "# Exploring Clients Loyalty: Who will stay and who will leave the bank?"
   ]
  },
  {
   "cell_type": "markdown",
   "metadata": {
    "collapsed": true
   },
   "source": [
    "#### Installing Theano\n",
    "pip install --upgrade --no-deps git+git://github.com/Theano/Theano.git\n",
    "\n",
    "#### Installing Tensorflow\n",
    "Install Tensorflow from the website: https://www.tensorflow.org/versions/r0.12/get_started/os_setup.html\n",
    "\n",
    "#### Installing Keras\n",
    "pip install --upgrade keras\n",
    "\n",
    "# -Business Problem Description\n",
    "\n",
    "Based on bank customers information (10 000) from Churn_Modelling.csv file, solve classification problem and predict which of the customers will leave the bank using artificial neural network."
   ]
  },
  {
   "cell_type": "markdown",
   "metadata": {},
   "source": [
    "# Part 1 - Data Preprocessing"
   ]
  },
  {
   "cell_type": "markdown",
   "metadata": {},
   "source": [
    "#### Importing the libraries"
   ]
  },
  {
   "cell_type": "code",
   "execution_count": 1,
   "metadata": {
    "collapsed": true
   },
   "outputs": [],
   "source": [
    "import numpy as np\n",
    "import matplotlib.pyplot as plt\n",
    "import pandas as pd"
   ]
  },
  {
   "cell_type": "markdown",
   "metadata": {},
   "source": [
    "#### Importing the dataset"
   ]
  },
  {
   "cell_type": "code",
   "execution_count": 2,
   "metadata": {
    "collapsed": true
   },
   "outputs": [],
   "source": [
    "dataset = pd.read_csv('Churn_Modelling.csv')\n",
    "X = dataset.iloc[:, 3:13].values\n",
    "y = dataset.iloc[:, 13].values"
   ]
  },
  {
   "cell_type": "code",
   "execution_count": null,
   "metadata": {
    "collapsed": false
   },
   "outputs": [],
   "source": [
    "#dataset"
   ]
  },
  {
   "cell_type": "markdown",
   "metadata": {},
   "source": [
    "#### Encoding categorical data"
   ]
  },
  {
   "cell_type": "code",
   "execution_count": 3,
   "metadata": {
    "collapsed": true
   },
   "outputs": [],
   "source": [
    "from sklearn.preprocessing import LabelEncoder, OneHotEncoder\n",
    "labelencoder_X_1 = LabelEncoder()\n",
    "X[:, 1] = labelencoder_X_1.fit_transform(X[:, 1])\n",
    "labelencoder_X_2 = LabelEncoder()\n",
    "X[:, 2] = labelencoder_X_2.fit_transform(X[:, 2])\n",
    "onehotencoder = OneHotEncoder(categorical_features = [1])\n",
    "X = onehotencoder.fit_transform(X).toarray()\n",
    "X = X[:, 1:]"
   ]
  },
  {
   "cell_type": "markdown",
   "metadata": {},
   "source": [
    "#### Splitting the dataset into the Training set and Test set"
   ]
  },
  {
   "cell_type": "code",
   "execution_count": 4,
   "metadata": {
    "collapsed": false
   },
   "outputs": [],
   "source": [
    "from sklearn.cross_validation import train_test_split\n",
    "X_train, X_test, y_train, y_test = train_test_split(X, y, test_size = 0.2, random_state = 0)`"
   ]
  },
  {
   "cell_type": "markdown",
   "metadata": {},
   "source": [
    "#### Feature Scaling"
   ]
  },
  {
   "cell_type": "code",
   "execution_count": 5,
   "metadata": {
    "collapsed": true
   },
   "outputs": [],
   "source": [
    "from sklearn.preprocessing import StandardScaler\n",
    "sc = StandardScaler()\n",
    "X_train = sc.fit_transform(X_train)\n",
    "X_test = sc.transform(X_test)"
   ]
  },
  {
   "cell_type": "markdown",
   "metadata": {},
   "source": [
    "# Part 2 - Creation of Artificial Neural Network!"
   ]
  },
  {
   "cell_type": "markdown",
   "metadata": {},
   "source": [
    "#### Importing the Keras libraries and packages"
   ]
  },
  {
   "cell_type": "code",
   "execution_count": 6,
   "metadata": {
    "collapsed": false
   },
   "outputs": [
    {
     "name": "stderr",
     "output_type": "stream",
     "text": [
      "Using TensorFlow backend.\n"
     ]
    }
   ],
   "source": [
    "import keras\n",
    "from keras.models import Sequential # used for initialization of the neural networks\n",
    "from keras.layers import Dense # used for building artificial neural network layers"
   ]
  },
  {
   "cell_type": "markdown",
   "metadata": {},
   "source": [
    "#### Initialising the Artificial Neural Network"
   ]
  },
  {
   "cell_type": "code",
   "execution_count": 7,
   "metadata": {
    "collapsed": false
   },
   "outputs": [],
   "source": [
    "classifier = Sequential()"
   ]
  },
  {
   "cell_type": "markdown",
   "metadata": {},
   "source": [
    "#### Adding the input layer and the first hidden layer"
   ]
  },
  {
   "cell_type": "code",
   "execution_count": 8,
   "metadata": {
    "collapsed": false
   },
   "outputs": [
    {
     "name": "stderr",
     "output_type": "stream",
     "text": [
      "C:\\Program Files\\Anaconda3\\lib\\site-packages\\ipykernel\\__main__.py:1: UserWarning: Update your `Dense` call to the Keras 2 API: `Dense(kernel_initializer=\"uniform\", units=6, input_dim=11, activation=\"relu\")`\n",
      "  if __name__ == '__main__':\n"
     ]
    }
   ],
   "source": [
    "classifier.add(Dense(output_dim = 6, init = 'uniform', activation = 'relu', input_dim = 11))"
   ]
  },
  {
   "cell_type": "markdown",
   "metadata": {},
   "source": [
    "#### Adding the second hidden layer"
   ]
  },
  {
   "cell_type": "code",
   "execution_count": 9,
   "metadata": {
    "collapsed": false
   },
   "outputs": [
    {
     "name": "stderr",
     "output_type": "stream",
     "text": [
      "C:\\Program Files\\Anaconda3\\lib\\site-packages\\ipykernel\\__main__.py:1: UserWarning: Update your `Dense` call to the Keras 2 API: `Dense(kernel_initializer=\"uniform\", units=6, activation=\"relu\")`\n",
      "  if __name__ == '__main__':\n"
     ]
    }
   ],
   "source": [
    "classifier.add(Dense(output_dim = 6, init = 'uniform', activation = 'relu'))"
   ]
  },
  {
   "cell_type": "markdown",
   "metadata": {},
   "source": [
    "#### Adding the output layer"
   ]
  },
  {
   "cell_type": "code",
   "execution_count": 10,
   "metadata": {
    "collapsed": false
   },
   "outputs": [
    {
     "name": "stderr",
     "output_type": "stream",
     "text": [
      "C:\\Program Files\\Anaconda3\\lib\\site-packages\\ipykernel\\__main__.py:1: UserWarning: Update your `Dense` call to the Keras 2 API: `Dense(kernel_initializer=\"uniform\", units=1, activation=\"sigmoid\")`\n",
      "  if __name__ == '__main__':\n"
     ]
    }
   ],
   "source": [
    "classifier.add(Dense(output_dim = 1, init = 'uniform', activation = 'sigmoid'))"
   ]
  },
  {
   "cell_type": "markdown",
   "metadata": {},
   "source": [
    "#### Compiling the Artificial Neural Network"
   ]
  },
  {
   "cell_type": "code",
   "execution_count": 11,
   "metadata": {
    "collapsed": true
   },
   "outputs": [],
   "source": [
    "classifier.compile(optimizer = 'adam', loss = 'binary_crossentropy', metrics = ['accuracy'])"
   ]
  },
  {
   "cell_type": "markdown",
   "metadata": {},
   "source": [
    "#### Fitting the Artificial Neural Network to the Training set"
   ]
  },
  {
   "cell_type": "code",
   "execution_count": 13,
   "metadata": {
    "collapsed": false
   },
   "outputs": [
    {
     "name": "stdout",
     "output_type": "stream",
     "text": [
      "Epoch 1/100\n",
      " 630/8000 [=>............................] - ETA: 1s - loss: 0.3558 - acc: 0.8460"
     ]
    },
    {
     "name": "stderr",
     "output_type": "stream",
     "text": [
      "C:\\Program Files\\Anaconda3\\lib\\site-packages\\ipykernel\\__main__.py:1: UserWarning: The `nb_epoch` argument in `fit` has been renamed `epochs`.\n",
      "  if __name__ == '__main__':\n"
     ]
    },
    {
     "name": "stdout",
     "output_type": "stream",
     "text": [
      "8000/8000 [==============================] - 2s 234us/step - loss: 0.3655 - acc: 0.8442\n",
      "Epoch 2/100\n",
      "8000/8000 [==============================] - 2s 217us/step - loss: 0.3653 - acc: 0.8431\n",
      "Epoch 3/100\n",
      "8000/8000 [==============================] - 2s 211us/step - loss: 0.3649 - acc: 0.8450\n",
      "Epoch 4/100\n",
      "8000/8000 [==============================] - 2s 272us/step - loss: 0.3660 - acc: 0.8445\n",
      "Epoch 5/100\n",
      "8000/8000 [==============================] - 2s 253us/step - loss: 0.3648 - acc: 0.8459\n",
      "Epoch 6/100\n",
      "8000/8000 [==============================] - 2s 293us/step - loss: 0.3657 - acc: 0.8436\n",
      "Epoch 7/100\n",
      "8000/8000 [==============================] - 2s 228us/step - loss: 0.3648 - acc: 0.8430\n",
      "Epoch 8/100\n",
      "8000/8000 [==============================] - 2s 193us/step - loss: 0.3653 - acc: 0.8432\n",
      "Epoch 9/100\n",
      "8000/8000 [==============================] - 2s 222us/step - loss: 0.3651 - acc: 0.8446\n",
      "Epoch 10/100\n",
      "8000/8000 [==============================] - 2s 222us/step - loss: 0.3658 - acc: 0.8437\n",
      "Epoch 11/100\n",
      "8000/8000 [==============================] - 2s 204us/step - loss: 0.3652 - acc: 0.8434\n",
      "Epoch 12/100\n",
      "8000/8000 [==============================] - 2s 206us/step - loss: 0.3656 - acc: 0.8432\n",
      "Epoch 13/100\n",
      "8000/8000 [==============================] - 2s 222us/step - loss: 0.3655 - acc: 0.8439\n",
      "Epoch 14/100\n",
      "8000/8000 [==============================] - 2s 203us/step - loss: 0.3650 - acc: 0.8456\n",
      "Epoch 15/100\n",
      "8000/8000 [==============================] - 2s 209us/step - loss: 0.3653 - acc: 0.8441\n",
      "Epoch 16/100\n",
      "8000/8000 [==============================] - 2s 214us/step - loss: 0.3655 - acc: 0.8432\n",
      "Epoch 17/100\n",
      "8000/8000 [==============================] - 2s 209us/step - loss: 0.3647 - acc: 0.8431\n",
      "Epoch 18/100\n",
      "8000/8000 [==============================] - 2s 208us/step - loss: 0.3648 - acc: 0.8431\n",
      "Epoch 19/100\n",
      "8000/8000 [==============================] - 2s 194us/step - loss: 0.3649 - acc: 0.8444\n",
      "Epoch 20/100\n",
      "8000/8000 [==============================] - 2s 211us/step - loss: 0.3650 - acc: 0.8406\n",
      "Epoch 21/100\n",
      "8000/8000 [==============================] - 2s 209us/step - loss: 0.3654 - acc: 0.8432\n",
      "Epoch 22/100\n",
      "8000/8000 [==============================] - 2s 216us/step - loss: 0.3649 - acc: 0.8437\n",
      "Epoch 23/100\n",
      "8000/8000 [==============================] - 2s 226us/step - loss: 0.3644 - acc: 0.8447\n",
      "Epoch 24/100\n",
      "8000/8000 [==============================] - 2s 192us/step - loss: 0.3640 - acc: 0.8455\n",
      "Epoch 25/100\n",
      "8000/8000 [==============================] - 2s 212us/step - loss: 0.3636 - acc: 0.8455\n",
      "Epoch 26/100\n",
      "8000/8000 [==============================] - 2s 215us/step - loss: 0.3646 - acc: 0.8452\n",
      "Epoch 27/100\n",
      "8000/8000 [==============================] - 2s 214us/step - loss: 0.3637 - acc: 0.8436\n",
      "Epoch 28/100\n",
      "8000/8000 [==============================] - 2s 213us/step - loss: 0.3639 - acc: 0.8441\n",
      "Epoch 29/100\n",
      "8000/8000 [==============================] - 2s 200us/step - loss: 0.3638 - acc: 0.8454\n",
      "Epoch 30/100\n",
      "8000/8000 [==============================] - 2s 209us/step - loss: 0.3637 - acc: 0.8449\n",
      "Epoch 31/100\n",
      "8000/8000 [==============================] - 2s 214us/step - loss: 0.3606 - acc: 0.8481\n",
      "Epoch 32/100\n",
      "8000/8000 [==============================] - 2s 205us/step - loss: 0.3589 - acc: 0.8521\n",
      "Epoch 33/100\n",
      "8000/8000 [==============================] - 2s 211us/step - loss: 0.3557 - acc: 0.8506\n",
      "Epoch 34/100\n",
      "8000/8000 [==============================] - 2s 223us/step - loss: 0.3552 - acc: 0.8539\n",
      "Epoch 35/100\n",
      "8000/8000 [==============================] - 2s 199us/step - loss: 0.3521 - acc: 0.8522\n",
      "Epoch 36/100\n",
      "8000/8000 [==============================] - 2s 209us/step - loss: 0.3512 - acc: 0.8550\n",
      "Epoch 37/100\n",
      "8000/8000 [==============================] - 2s 207us/step - loss: 0.3492 - acc: 0.8536\n",
      "Epoch 38/100\n",
      "8000/8000 [==============================] - 2s 213us/step - loss: 0.3483 - acc: 0.8555\n",
      "Epoch 39/100\n",
      "8000/8000 [==============================] - 2s 208us/step - loss: 0.3463 - acc: 0.8571\n",
      "Epoch 40/100\n",
      "8000/8000 [==============================] - 2s 195us/step - loss: 0.3452 - acc: 0.8564\n",
      "Epoch 41/100\n",
      "8000/8000 [==============================] - 2s 225us/step - loss: 0.3442 - acc: 0.8575\n",
      "Epoch 42/100\n",
      "8000/8000 [==============================] - 2s 224us/step - loss: 0.3426 - acc: 0.8570\n",
      "Epoch 43/100\n",
      "8000/8000 [==============================] - 2s 212us/step - loss: 0.3419 - acc: 0.8581\n",
      "Epoch 44/100\n",
      "8000/8000 [==============================] - 2s 208us/step - loss: 0.3415 - acc: 0.8600\n",
      "Epoch 45/100\n",
      "8000/8000 [==============================] - 2s 205us/step - loss: 0.3410 - acc: 0.8580\n",
      "Epoch 46/100\n",
      "8000/8000 [==============================] - 2s 214us/step - loss: 0.3395 - acc: 0.8609\n",
      "Epoch 47/100\n",
      "8000/8000 [==============================] - 2s 215us/step - loss: 0.3392 - acc: 0.8589\n",
      "Epoch 48/100\n",
      "8000/8000 [==============================] - 2s 220us/step - loss: 0.3379 - acc: 0.8622\n",
      "Epoch 49/100\n",
      "8000/8000 [==============================] - 2s 216us/step - loss: 0.3373 - acc: 0.8636\n",
      "Epoch 50/100\n",
      "8000/8000 [==============================] - 2s 214us/step - loss: 0.3375 - acc: 0.8617\n",
      "Epoch 51/100\n",
      "8000/8000 [==============================] - 2s 210us/step - loss: 0.3368 - acc: 0.8636\n",
      "Epoch 52/100\n",
      "8000/8000 [==============================] - 2s 239us/step - loss: 0.3365 - acc: 0.8634\n",
      "Epoch 53/100\n",
      "8000/8000 [==============================] - 2s 215us/step - loss: 0.3358 - acc: 0.8619\n",
      "Epoch 54/100\n",
      "8000/8000 [==============================] - 2s 213us/step - loss: 0.3352 - acc: 0.8602\n",
      "Epoch 55/100\n",
      "8000/8000 [==============================] - 2s 221us/step - loss: 0.3348 - acc: 0.8631\n",
      "Epoch 56/100\n",
      "8000/8000 [==============================] - 2s 206us/step - loss: 0.3346 - acc: 0.8604\n",
      "Epoch 57/100\n",
      "8000/8000 [==============================] - 2s 211us/step - loss: 0.3343 - acc: 0.8639\n",
      "Epoch 58/100\n",
      "8000/8000 [==============================] - 2s 228us/step - loss: 0.3337 - acc: 0.8634\n",
      "Epoch 59/100\n",
      "8000/8000 [==============================] - 2s 242us/step - loss: 0.3339 - acc: 0.8634\n",
      "Epoch 60/100\n",
      "8000/8000 [==============================] - 2s 224us/step - loss: 0.3339 - acc: 0.8624\n",
      "Epoch 61/100\n",
      "8000/8000 [==============================] - 2s 207us/step - loss: 0.3341 - acc: 0.8630\n",
      "Epoch 62/100\n",
      "8000/8000 [==============================] - 2s 232us/step - loss: 0.3332 - acc: 0.8621\n",
      "Epoch 63/100\n",
      "8000/8000 [==============================] - 2s 231us/step - loss: 0.3340 - acc: 0.8650\n",
      "Epoch 64/100\n",
      "8000/8000 [==============================] - 2s 224us/step - loss: 0.3326 - acc: 0.8646\n",
      "Epoch 65/100\n",
      "8000/8000 [==============================] - 2s 233us/step - loss: 0.3331 - acc: 0.8629\n",
      "Epoch 66/100\n",
      "8000/8000 [==============================] - 2s 207us/step - loss: 0.3340 - acc: 0.8635\n",
      "Epoch 67/100\n",
      "8000/8000 [==============================] - 2s 252us/step - loss: 0.3337 - acc: 0.8621\n",
      "Epoch 68/100\n",
      "8000/8000 [==============================] - 2s 274us/step - loss: 0.3334 - acc: 0.8631\n",
      "Epoch 69/100\n",
      "8000/8000 [==============================] - 2s 276us/step - loss: 0.3336 - acc: 0.8632\n",
      "Epoch 70/100\n",
      "8000/8000 [==============================] - 2s 251us/step - loss: 0.3326 - acc: 0.8651\n",
      "Epoch 71/100\n",
      "8000/8000 [==============================] - 2s 245us/step - loss: 0.3320 - acc: 0.8650\n",
      "Epoch 72/100\n",
      "8000/8000 [==============================] - 2s 238us/step - loss: 0.3326 - acc: 0.8625\n",
      "Epoch 73/100\n",
      "8000/8000 [==============================] - 2s 252us/step - loss: 0.3328 - acc: 0.8654\n",
      "Epoch 74/100\n",
      "8000/8000 [==============================] - 2s 251us/step - loss: 0.3333 - acc: 0.8630\n",
      "Epoch 75/100\n",
      "8000/8000 [==============================] - 2s 217us/step - loss: 0.3325 - acc: 0.8635\n",
      "Epoch 76/100\n",
      "8000/8000 [==============================] - 2s 224us/step - loss: 0.3325 - acc: 0.8625\n",
      "Epoch 77/100\n",
      "8000/8000 [==============================] - 2s 228us/step - loss: 0.3322 - acc: 0.8625\n",
      "Epoch 78/100\n",
      "8000/8000 [==============================] - 2s 226us/step - loss: 0.3325 - acc: 0.8629\n",
      "Epoch 79/100\n",
      "8000/8000 [==============================] - 2s 229us/step - loss: 0.3326 - acc: 0.8655\n",
      "Epoch 80/100\n",
      "8000/8000 [==============================] - 2s 210us/step - loss: 0.3327 - acc: 0.8651\n",
      "Epoch 81/100\n",
      "8000/8000 [==============================] - 2s 224us/step - loss: 0.3332 - acc: 0.8632\n",
      "Epoch 82/100\n",
      "8000/8000 [==============================] - 2s 224us/step - loss: 0.3326 - acc: 0.8632\n",
      "Epoch 83/100\n",
      "8000/8000 [==============================] - 2s 224us/step - loss: 0.3325 - acc: 0.8630\n",
      "Epoch 84/100\n",
      "8000/8000 [==============================] - 2s 229us/step - loss: 0.3322 - acc: 0.8649\n",
      "Epoch 85/100\n",
      "8000/8000 [==============================] - 2s 209us/step - loss: 0.3324 - acc: 0.8631\n",
      "Epoch 86/100\n",
      "8000/8000 [==============================] - 2s 223us/step - loss: 0.3327 - acc: 0.8619\n",
      "Epoch 87/100\n",
      "8000/8000 [==============================] - 2s 222us/step - loss: 0.3321 - acc: 0.8645\n",
      "Epoch 88/100\n",
      "8000/8000 [==============================] - 2s 228us/step - loss: 0.3327 - acc: 0.8627\n",
      "Epoch 89/100\n",
      "8000/8000 [==============================] - 2s 231us/step - loss: 0.3316 - acc: 0.8634\n",
      "Epoch 90/100\n",
      "8000/8000 [==============================] - 2s 212us/step - loss: 0.3323 - acc: 0.8634\n",
      "Epoch 91/100\n",
      "8000/8000 [==============================] - 2s 238us/step - loss: 0.3322 - acc: 0.8649\n",
      "Epoch 92/100\n",
      "8000/8000 [==============================] - 2s 226us/step - loss: 0.3316 - acc: 0.8634\n",
      "Epoch 93/100\n",
      "8000/8000 [==============================] - 2s 236us/step - loss: 0.3314 - acc: 0.8636\n",
      "Epoch 94/100\n",
      "8000/8000 [==============================] - 2s 248us/step - loss: 0.3330 - acc: 0.8639\n",
      "Epoch 95/100\n",
      "8000/8000 [==============================] - 2s 303us/step - loss: 0.3318 - acc: 0.8627\n",
      "Epoch 96/100\n",
      "8000/8000 [==============================] - 3s 354us/step - loss: 0.3321 - acc: 0.8622\n",
      "Epoch 97/100\n",
      "8000/8000 [==============================] - 3s 324us/step - loss: 0.3329 - acc: 0.8624\n",
      "Epoch 98/100\n",
      "8000/8000 [==============================] - 3s 337us/step - loss: 0.3322 - acc: 0.8636\n",
      "Epoch 99/100\n",
      "8000/8000 [==============================] - 2s 300us/step - loss: 0.3325 - acc: 0.8605\n",
      "Epoch 100/100\n",
      "8000/8000 [==============================] - 2s 279us/step - loss: 0.3317 - acc: 0.8629\n"
     ]
    },
    {
     "data": {
      "text/plain": [
       "<keras.callbacks.History at 0xdcbbb00>"
      ]
     },
     "execution_count": 13,
     "metadata": {},
     "output_type": "execute_result"
    }
   ],
   "source": [
    "classifier.fit(X_train, y_train, batch_size = 10, nb_epoch = 100)"
   ]
  },
  {
   "cell_type": "markdown",
   "metadata": {},
   "source": [
    "# Part 3 - Predictions and Evaluations of the model"
   ]
  },
  {
   "cell_type": "markdown",
   "metadata": {},
   "source": [
    "#### Predicting the Test set results"
   ]
  },
  {
   "cell_type": "code",
   "execution_count": 14,
   "metadata": {
    "collapsed": true
   },
   "outputs": [],
   "source": [
    "y_pred = classifier.predict(X_test)\n",
    "y_pred = (y_pred > 0.5)"
   ]
  },
  {
   "cell_type": "markdown",
   "metadata": {},
   "source": [
    "#### Making the Confusion Matrix"
   ]
  },
  {
   "cell_type": "code",
   "execution_count": 15,
   "metadata": {
    "collapsed": false
   },
   "outputs": [
    {
     "name": "stdout",
     "output_type": "stream",
     "text": [
      "[[1513   82]\n",
      " [ 192  213]]\n"
     ]
    }
   ],
   "source": [
    "from sklearn.metrics import confusion_matrix\n",
    "cm = confusion_matrix(y_test, y_pred)\n",
    "print(cm)"
   ]
  },
  {
   "cell_type": "code",
   "execution_count": 17,
   "metadata": {
    "collapsed": false
   },
   "outputs": [
    {
     "name": "stdout",
     "output_type": "stream",
     "text": [
      "Accuracy = 0.863%\n"
     ]
    }
   ],
   "source": [
    "Accuracy = (1513+213)/2000\n",
    "print(\"Accuracy = \" + str(Accuracy) + \"%\")"
   ]
  }
 ],
 "metadata": {
  "anaconda-cloud": {},
  "kernelspec": {
   "display_name": "Python [conda env:Anaconda3]",
   "language": "python",
   "name": "conda-env-Anaconda3-py"
  },
  "language_info": {
   "codemirror_mode": {
    "name": "ipython",
    "version": 3
   },
   "file_extension": ".py",
   "mimetype": "text/x-python",
   "name": "python",
   "nbconvert_exporter": "python",
   "pygments_lexer": "ipython3",
   "version": "3.5.2"
  }
 },
 "nbformat": 4,
 "nbformat_minor": 1
}
